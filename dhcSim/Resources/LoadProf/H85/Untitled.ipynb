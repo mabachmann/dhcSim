{
 "cells": [
  {
   "cell_type": "code",
   "execution_count": 2,
   "metadata": {},
   "outputs": [],
   "source": [
    "import numpy as np\n",
    "import matplotlib.pyplot as plt"
   ]
  },
  {
   "cell_type": "code",
   "execution_count": 8,
   "metadata": {},
   "outputs": [],
   "source": [
    "# create constant producer profile\n",
    "QFlowNom = [3.0e5, 1.2e5, 1.3e5, 1.3e5]\n",
    "nProf = len(QFlowNom)\n",
    "names = ['D85', 'D80', 'D79', 'D82']\n",
    "time = np.linspace(0, 31536000, num=int(31536000/3600)+1) #stundenwerte\n",
    "header = '#1 \\ndouble table({},2) \\n# time[s] \\t Q_flow[W]'.format(len(time))\n",
    "\n",
    "for i in range(nProf):\n",
    "    data = np.array([time, np.full(len(time), QFlowNom[i])]).T\n",
    "    np.savetxt('{}.txt'.format(names[i]), data, header=header, delimiter='\\t', comments='')\n"
   ]
  },
  {
   "cell_type": "code",
   "execution_count": 9,
   "metadata": {},
   "outputs": [],
   "source": [
    "# create constant producer profile with 0.5 nominal load\n",
    "QFlowNom = 0.5*np.array([3.0e5, 1.2e5, 1.3e5, 1.3e5])\n",
    "nProf = len(QFlowNom)\n",
    "names = ['D85_50', 'D80_50', 'D79_50', 'D82_50']\n",
    "time = np.linspace(0, 31536000, num=int(31536000/3600)+1) #stundenwerte\n",
    "header = '#1 \\ndouble table({},2) \\n# time[s] \\t Q_flow[W]'.format(len(time))\n",
    "\n",
    "for i in range(nProf):\n",
    "    data = np.array([time, np.full(len(time), QFlowNom[i])]).T\n",
    "    np.savetxt('{}.txt'.format(names[i]), data, header=header, delimiter='\\t', comments='')\n"
   ]
  },
  {
   "cell_type": "code",
   "execution_count": 10,
   "metadata": {},
   "outputs": [],
   "source": [
    "# create constant producer profile with 0.25 nominal load\n",
    "QFlowNom = 0.25*np.array([3.0e5, 1.2e5, 1.3e5, 1.3e5])\n",
    "nProf = len(QFlowNom)\n",
    "names = ['D85_25', 'D80_25', 'D79_25', 'D82_25']\n",
    "time = np.linspace(0, 31536000, num=int(31536000/3600)+1) #stundenwerte\n",
    "header = '#1 \\ndouble table({},2) \\n# time[s] \\t Q_flow[W]'.format(len(time))\n",
    "\n",
    "for i in range(nProf):\n",
    "    data = np.array([time, np.full(len(time), QFlowNom[i])]).T\n",
    "    np.savetxt('{}.txt'.format(names[i]), data, header=header, delimiter='\\t', comments='')"
   ]
  },
  {
   "cell_type": "code",
   "execution_count": null,
   "metadata": {},
   "outputs": [],
   "source": []
  }
 ],
 "metadata": {
  "kernelspec": {
   "display_name": "Python 3",
   "language": "python",
   "name": "python3"
  },
  "language_info": {
   "codemirror_mode": {
    "name": "ipython",
    "version": 3
   },
   "file_extension": ".py",
   "mimetype": "text/x-python",
   "name": "python",
   "nbconvert_exporter": "python",
   "pygments_lexer": "ipython3",
   "version": "3.7.1"
  }
 },
 "nbformat": 4,
 "nbformat_minor": 2
}
